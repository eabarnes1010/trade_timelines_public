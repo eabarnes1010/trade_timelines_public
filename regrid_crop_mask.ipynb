{
 "cells": [
  {
   "cell_type": "code",
   "execution_count": null,
   "metadata": {},
   "outputs": [],
   "source": [
    "import xarray as xr\n",
    "import matplotlib.pyplot as plt\n",
    "import numpy as np\n",
    "import rioxarray\n",
    "import xesmf as xe\n",
    "\n",
    "# http://www.earthstat.org/cropland-pasture-area-2000/\n",
    "# https://docs.xarray.dev/en/stable/user-guide/io.html#rasterio\n",
    "# http://www.earthstat.org/harvested-area-yield-175-crops/\n"
   ]
  },
  {
   "cell_type": "markdown",
   "metadata": {},
   "source": [
    "# Regrid cropland masks"
   ]
  },
  {
   "cell_type": "code",
   "execution_count": null,
   "metadata": {},
   "outputs": [],
   "source": [
    "# GCM = \"mpi\"\n",
    "GCM = \"cesm2\"\n",
    "\n",
    "# for crop in (\"wheat\", \"rice\", \"soy\", \"maize\", \"all\"):\n",
    "for crop in (\"soybean\", \"maize\", \"all\"):\n",
    "    if crop == \"all\":\n",
    "        crop_name = crop\n",
    "        geotiff_path = \"data/cropland/CroplandPastureArea2000_Geotiff/Cropland2000_5m.tif\"\n",
    "    else:\n",
    "        if crop == \"wheat\":\n",
    "            crop_name = \"wht\"\n",
    "        elif crop == \"maize\":\n",
    "            crop_name = \"gro\"\n",
    "        elif crop == \"rice\":\n",
    "            crop_name = \"pdr\"\n",
    "        elif crop == \"soybean\":\n",
    "            crop_name = \"osd\"\n",
    "        else:\n",
    "            raise NotImplementedError()\n",
    "\n",
    "        geotiff_path = \"data/cropland/\" + crop + \"_HarvAreaYield_Geotiff/\" + crop + \"_HarvestedAreaFraction.tif\"\n",
    "\n",
    "    # Open into an xarray.DataArray\n",
    "    crop_da = rioxarray.open_rasterio(geotiff_path)\n",
    "    crop_da = crop_da.to_dataset(\"band\")\n",
    "    crop_da = crop_da.rename({1: \"data\"})[\"data\"]\n",
    "    crop_da = crop_da.rename({\"x\": \"lon\", \"y\": \"lat\"})\n",
    "\n",
    "    data_lons = crop_da[\"lon\"].values\n",
    "    i = np.where(data_lons <= 0)\n",
    "    data_lons[i] = data_lons[i] + 360\n",
    "    i = np.where(data_lons >= 359.93)\n",
    "    data_lons[i] = 0.0\n",
    "    crop_da = crop_da.assign_coords(lon=data_lons)\n",
    "    crop_da = crop_da.sortby(\"lon\")\n",
    "\n",
    "    crop_da = xr.where(crop_da < 0, 0.0, crop_da)\n",
    "    crop_da\n",
    "\n",
    "    # get the data grid\n",
    "    if GCM == \"mpi\":\n",
    "        data = xr.open_dataarray(\"processed_data/exp201_processed_data.nc\")\n",
    "    elif GCM == \"cesm2\":\n",
    "        data = xr.open_dataarray(\"processed_data/exp2001_processed_data.nc\")\n",
    "\n",
    "    data = data.stack(sample=(\"member\", \"window\")).transpose(\"sample\", \"lat\", \"lon\")\n",
    "\n",
    "    # perform the regridding and save the netcdf file\n",
    "    grid_in = xr.Dataset(\n",
    "        {\n",
    "            \"lat\": ([\"lat\"], crop_da[\"lat\"].values, {\"units\": \"degrees_north\"}),\n",
    "            \"lon\": ([\"lon\"], crop_da[\"lon\"].values, {\"units\": \"degrees_east\"}),\n",
    "        }\n",
    "    )\n",
    "    grid_out = xr.Dataset(\n",
    "        {\n",
    "            \"lat\": ([\"lat\"], data[\"lat\"].values, {\"units\": \"degrees_north\"}),\n",
    "            \"lon\": ([\"lon\"], data[\"lon\"].values, {\"units\": \"degrees_east\"}),\n",
    "        }\n",
    "    )\n",
    "\n",
    "    regridder = xe.Regridder(grid_in, grid_out, \"conservative\", periodic=True)\n",
    "    crop_da_regrid = regridder(crop_da, keep_attrs=True)\n",
    "    crop_da_regrid = xr.where(crop_da_regrid == 0, np.nan, crop_da_regrid)\n",
    "\n",
    "    crop_da_regrid.to_netcdf(\"data/cropland/regridded_cropland/\" + crop_name + \"_cropped_regrid_\" + GCM + \".nc\")"
   ]
  },
  {
   "cell_type": "code",
   "execution_count": null,
   "metadata": {},
   "outputs": [],
   "source": [
    "# data = xr.open_dataarray(\"processed_data/exp201_processed_data.nc\")\n",
    "# data = data.stack(sample=(\"member\", \"window\")).transpose(\"sample\", \"lat\", \"lon\")"
   ]
  },
  {
   "cell_type": "code",
   "execution_count": null,
   "metadata": {},
   "outputs": [],
   "source": [
    "# grid_in = xr.Dataset(\n",
    "#     {\n",
    "#         \"lat\": ([\"lat\"], crop_da[\"lat\"].values, {\"units\": \"degrees_north\"}),\n",
    "#         \"lon\": ([\"lon\"], crop_da[\"lon\"].values, {\"units\": \"degrees_east\"}),\n",
    "#     }\n",
    "# )\n",
    "# grid_out = xr.Dataset(\n",
    "#     {\n",
    "#         \"lat\": ([\"lat\"], data[\"lat\"].values, {\"units\": \"degrees_north\"}),\n",
    "#         \"lon\": ([\"lon\"], data[\"lon\"].values, {\"units\": \"degrees_east\"}),\n",
    "#     }\n",
    "# )\n",
    "\n",
    "# regridder = xe.Regridder(grid_in, grid_out, \"conservative\", periodic=True)\n",
    "# crop_da_regrid = regridder(crop_da, keep_attrs=True)\n",
    "# crop_da_regrid = xr.where(crop_da_regrid==0, np.nan, crop_da_regrid)\n",
    "# crop_da_regrid.to_netcdf(\"data/cropland/\" + crop + \"_HarvAreaYield_Geotiff/\" + crop + \"_cropped_regrid.nc\")"
   ]
  },
  {
   "cell_type": "markdown",
   "metadata": {},
   "source": [
    "# Check my work"
   ]
  },
  {
   "cell_type": "code",
   "execution_count": null,
   "metadata": {},
   "outputs": [],
   "source": [
    "assert False"
   ]
  },
  {
   "cell_type": "code",
   "execution_count": null,
   "metadata": {},
   "outputs": [],
   "source": [
    "crop_da_regrid = xr.load_dataarray(\"data/cropland/\" + crop + \"_HarvAreaYield_Geotiff/\" + crop + \"_cropped_regrid.nc\")\n",
    "\n",
    "plt.pcolor(crop_da_regrid)\n",
    "plt.colorbar()\n",
    "plt.show"
   ]
  },
  {
   "cell_type": "code",
   "execution_count": null,
   "metadata": {},
   "outputs": [],
   "source": [
    "import data_processing\n",
    "\n",
    "DATA_DIRECTORY = \"/Users/eabarnes/big_data/\"\n",
    "SHAPE_DIRECTORY = \"shapefiles/gadm_shapefiles_20230301_gtapv11/\"\n",
    "mask_country, regs_shp = data_processing.get_country_masks(SHAPE_DIRECTORY, DATA_DIRECTORY)\n"
   ]
  },
  {
   "cell_type": "code",
   "execution_count": null,
   "metadata": {},
   "outputs": [],
   "source": [
    "ishp_partner = 3\n",
    "mask_partner = xr.where(mask_country == ishp_partner, 1.0, np.nan)\n",
    "mask_partner_crop = xr.where(mask_country == ishp_partner, 1.0, np.nan) * crop_da_regrid"
   ]
  },
  {
   "cell_type": "code",
   "execution_count": null,
   "metadata": {},
   "outputs": [],
   "source": [
    "import importlib as imp\n",
    "\n",
    "imp.reload(data_processing)\n",
    "\n",
    "response_crop = data_processing.compute_global_sum(\n",
    "    data * mask_partner_crop / data_processing.compute_global_sum(mask_partner_crop)\n",
    ")\n",
    "response = data_processing.compute_global_sum(data * mask_partner / data_processing.compute_global_sum(mask_partner))\n"
   ]
  },
  {
   "cell_type": "code",
   "execution_count": null,
   "metadata": {},
   "outputs": [],
   "source": [
    "x = data_processing.compute_global_sum(data * mask_partner_crop)\n",
    "i = np.argmax(x.values)\n",
    "i"
   ]
  },
  {
   "cell_type": "code",
   "execution_count": null,
   "metadata": {},
   "outputs": [],
   "source": [
    "sample = 0  # 100#139\n",
    "print(response[sample].values, response_crop[sample].values)\n",
    "\n",
    "plt.figure(figsize=(18, 4))\n",
    "\n",
    "plt.subplot(1, 3, 1)\n",
    "plt.pcolor(mask_partner_crop, cmap=\"plasma\")\n",
    "plt.title(\"Fraction of Area Cropped\")\n",
    "plt.colorbar()\n",
    "plt.clim(0, 1)\n",
    "plt.xlim(25, 85)\n",
    "plt.ylim(55, 80)\n",
    "\n",
    "plt.subplot(1, 3, 2)\n",
    "plt.pcolor(data[sample, :, :] * mask_partner)\n",
    "plt.title(\"Boolean Stress Index for Sample #\" + str(sample))\n",
    "plt.clim(0, 1)\n",
    "plt.colorbar()\n",
    "plt.xlim(25, 85)\n",
    "plt.ylim(55, 80)\n",
    "\n",
    "plt.subplot(1, 3, 3)\n",
    "x_plot = data[sample, :, :] * mask_partner_crop\n",
    "x_plot = np.where(x_plot == 0, np.nan, x_plot)\n",
    "plt.pcolor(x_plot, cmap=\"plasma\")\n",
    "plt.title(\"Percent Cropped that is Stressed = \" + str(np.round(100 * response_crop[sample].values)) + \"%\")\n",
    "plt.colorbar()\n",
    "plt.clim(0, 1)\n",
    "plt.xlim(25, 85)\n",
    "plt.ylim(55, 80)\n",
    "\n",
    "plt.tight_layout()\n",
    "plt.show()\n"
   ]
  },
  {
   "cell_type": "code",
   "execution_count": null,
   "metadata": {},
   "outputs": [],
   "source": []
  }
 ],
 "metadata": {
  "kernelspec": {
   "display_name": "env-tfp-2.7",
   "language": "python",
   "name": "python3"
  },
  "language_info": {
   "codemirror_mode": {
    "name": "ipython",
    "version": 3
   },
   "file_extension": ".py",
   "mimetype": "text/x-python",
   "name": "python",
   "nbconvert_exporter": "python",
   "pygments_lexer": "ipython3",
   "version": "3.11.4"
  },
  "orig_nbformat": 4
 },
 "nbformat": 4,
 "nbformat_minor": 2
}
